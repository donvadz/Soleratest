{
 "cells": [
  {
   "cell_type": "code",
   "execution_count": 7,
   "id": "79c83630",
   "metadata": {},
   "outputs": [],
   "source": [
    "import math\n",
    "\n",
    "class Line:\n",
    "    \n",
    "    def __init__(self,coor1,coor2):\n",
    "        \n",
    "        self.xdistance = coor2[0] - coor1[0]\n",
    "        self.ydistance = coor2[1] - coor1[1]\n",
    "        \n",
    "    def distance(self):\n",
    "        \n",
    "        return math.sqrt(self.xdistance*self.xdistance + self.ydistance*self.ydistance) \n",
    "        \n",
    "    def slope(self):\n",
    "        return self.ydistance/self.xdistance\n",
    "        "
   ]
  },
  {
   "cell_type": "code",
   "execution_count": 13,
   "id": "41088de7",
   "metadata": {},
   "outputs": [
    {
     "data": {
      "text/plain": [
       "(9.433981132056603, 1.6)"
      ]
     },
     "execution_count": 13,
     "metadata": {},
     "output_type": "execute_result"
    }
   ],
   "source": [
    "coordinate1 = (3,2)\n",
    "coordinate2 = (8,10)\n",
    "\n",
    "li = Line(coordinate1,coordinate2)\n",
    "x=li.distance()\n",
    "\n",
    "y=li.slope()\n",
    "x,y"
   ]
  },
  {
   "cell_type": "code",
   "execution_count": 18,
   "id": "a84b0e37",
   "metadata": {},
   "outputs": [],
   "source": [
    "class Cylinder:\n",
    "    \n",
    "    pi = 3.14\n",
    "    \n",
    "    def __init__(self, height=1,radius=1):\n",
    "        \n",
    "        self.height = height\n",
    "        self.radius = radius\n",
    "        \n",
    "    def volume(self):\n",
    "        \n",
    "        return self.pi * self.radius * self.radius * self.height\n",
    "    \n",
    "    def surface_area(self):\n",
    "        A = (2 * self.pi * self.radius * self.height) + (2 * self.pi * self.radius * self.radius)\n",
    "        return A"
   ]
  },
  {
   "cell_type": "code",
   "execution_count": 19,
   "id": "b293ef3f",
   "metadata": {},
   "outputs": [
    {
     "data": {
      "text/plain": [
       "(56.519999999999996, 94.19999999999999)"
      ]
     },
     "execution_count": 19,
     "metadata": {},
     "output_type": "execute_result"
    }
   ],
   "source": [
    "c = Cylinder(2,3)\n",
    "x = c.volume()\n",
    "y = c.surface_area()\n",
    "x,y"
   ]
  },
  {
   "cell_type": "code",
   "execution_count": 53,
   "id": "27e94d2b",
   "metadata": {},
   "outputs": [],
   "source": [
    "class Account:\n",
    "    \n",
    "    def __init__(self,owner,balance=0):\n",
    "        self.owner=owner\n",
    "        self.balance = balance\n",
    "        \n",
    "    def deposit(self,deposit_amount):\n",
    "        self.balance = self.balance + deposit_amount\n",
    "        print('We just added {} to your balance'.format(deposit_amount))\n",
    "        \n",
    "    def withdraw(self, withdraw_amount):\n",
    "        if withdraw_amount > self.balance:\n",
    "            print('You are trying to withdraw too much!')\n",
    "        else:\n",
    "            self.balance = self.balance - withdraw_amount\n",
    "            print('We just removed {} to your balance'.format(withdraw_amount))\n",
    "        \n",
    "    def __str__(self):\n",
    "        return f\"Owner: {self.owner} \\nBalance: {self.balance}\"\n",
    "        "
   ]
  },
  {
   "cell_type": "code",
   "execution_count": 54,
   "id": "d66dc9a7",
   "metadata": {},
   "outputs": [
    {
     "name": "stdout",
     "output_type": "stream",
     "text": [
      "Owner: Aadil \n",
      "Balance: 5000\n"
     ]
    }
   ],
   "source": [
    "bank = Account('Aadil',5000)\n",
    "print(bank)"
   ]
  },
  {
   "cell_type": "code",
   "execution_count": 55,
   "id": "6ecbcb41",
   "metadata": {},
   "outputs": [
    {
     "name": "stdout",
     "output_type": "stream",
     "text": [
      "We just added 100 to your balance\n"
     ]
    }
   ],
   "source": [
    "bank.deposit(100)"
   ]
  },
  {
   "cell_type": "code",
   "execution_count": 56,
   "id": "8880c04b",
   "metadata": {},
   "outputs": [
    {
     "data": {
      "text/plain": [
       "5100"
      ]
     },
     "execution_count": 56,
     "metadata": {},
     "output_type": "execute_result"
    }
   ],
   "source": [
    "bank.balance"
   ]
  },
  {
   "cell_type": "code",
   "execution_count": 57,
   "id": "3383784f",
   "metadata": {},
   "outputs": [
    {
     "name": "stdout",
     "output_type": "stream",
     "text": [
      "Owner: Aadil \n",
      "Balance: 5100\n"
     ]
    }
   ],
   "source": [
    "print(bank)"
   ]
  },
  {
   "cell_type": "code",
   "execution_count": 58,
   "id": "e7b5bc57",
   "metadata": {},
   "outputs": [
    {
     "name": "stdout",
     "output_type": "stream",
     "text": [
      "We just removed 1000 to your balance\n"
     ]
    }
   ],
   "source": [
    "bank.withdraw(1000)"
   ]
  },
  {
   "cell_type": "code",
   "execution_count": 59,
   "id": "ed724160",
   "metadata": {},
   "outputs": [
    {
     "name": "stdout",
     "output_type": "stream",
     "text": [
      "Owner: Aadil \n",
      "Balance: 4100\n"
     ]
    }
   ],
   "source": [
    "print(bank)"
   ]
  },
  {
   "cell_type": "code",
   "execution_count": 60,
   "id": "0c8e59eb",
   "metadata": {},
   "outputs": [
    {
     "name": "stdout",
     "output_type": "stream",
     "text": [
      "You are trying to withdraw too much!\n"
     ]
    }
   ],
   "source": [
    "bank.withdraw(6000)"
   ]
  },
  {
   "cell_type": "code",
   "execution_count": null,
   "id": "c306b3b9",
   "metadata": {},
   "outputs": [],
   "source": []
  }
 ],
 "metadata": {
  "kernelspec": {
   "display_name": "Python 3",
   "language": "python",
   "name": "python3"
  },
  "language_info": {
   "codemirror_mode": {
    "name": "ipython",
    "version": 3
   },
   "file_extension": ".py",
   "mimetype": "text/x-python",
   "name": "python",
   "nbconvert_exporter": "python",
   "pygments_lexer": "ipython3",
   "version": "3.8.8"
  }
 },
 "nbformat": 4,
 "nbformat_minor": 5
}
