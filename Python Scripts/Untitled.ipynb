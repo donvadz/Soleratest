{
 "cells": [
  {
   "cell_type": "code",
   "execution_count": 11,
   "id": "202274e7",
   "metadata": {},
   "outputs": [],
   "source": [
    "def solution(N, A):\n",
    "    counter,current_max, max_value = [0] * N,0,0\n",
    "    for i in A:\n",
    "        if i <= N:\n",
    "            if max_value > counter[i-1]:\n",
    "                counter[i-1] = max_value\n",
    "            counter[i-1]+=1\n",
    "            if counter[i-1] > current_max:\n",
    "                current_max = counter[i-1]\n",
    "        else:\n",
    "            max_value = current_max\n",
    "            \n",
    "    for j in range(N):\n",
    "        if counter[j] < max_value:\n",
    "            counter[j] = max_value\n",
    "    return counter\n",
    "\n"
   ]
  },
  {
   "cell_type": "code",
   "execution_count": 12,
   "id": "77855ca4",
   "metadata": {},
   "outputs": [
    {
     "data": {
      "text/plain": [
       "[3, 2, 2, 4, 2]"
      ]
     },
     "execution_count": 12,
     "metadata": {},
     "output_type": "execute_result"
    }
   ],
   "source": [
    "solution(5,[3,4,4,6,1,4,4])"
   ]
  },
  {
   "cell_type": "code",
   "execution_count": 4,
   "id": "a65edb09",
   "metadata": {},
   "outputs": [
    {
     "data": {
      "text/plain": [
       "[-4, -3, -1, 0, 0]"
      ]
     },
     "execution_count": 4,
     "metadata": {},
     "output_type": "execute_result"
    }
   ],
   "source": [
    "x = [-3,0,-1,-4,0]\n",
    "x.sort()\n",
    "x"
   ]
  },
  {
   "cell_type": "code",
   "execution_count": 10,
   "id": "c5fb5379",
   "metadata": {},
   "outputs": [
    {
     "data": {
      "text/plain": [
       "1"
      ]
     },
     "execution_count": 10,
     "metadata": {},
     "output_type": "execute_result"
    }
   ],
   "source": [
    "def solution(A):\n",
    "    counter = [False] * len(A)\n",
    "    for i in A:\n",
    "        if 0 < i <= len(A):\n",
    "            counter[i-1]=True\n",
    "        \n",
    "    for j in range(len(counter)):\n",
    "        if counter[j]==False:\n",
    "            return j + 1\n",
    "    \n",
    "    return len(A)+1\n",
    "        \n",
    "solution([-1,-3])    "
   ]
  },
  {
   "cell_type": "code",
   "execution_count": 11,
   "id": "d2a21562",
   "metadata": {},
   "outputs": [
    {
     "data": {
      "text/plain": [
       "[(10, 5), (5, 1), (2, 1), (1, 0)]"
      ]
     },
     "execution_count": 11,
     "metadata": {},
     "output_type": "execute_result"
    }
   ],
   "source": [
    "def greed(M, k):\n",
    "    n = len(M)\n",
    "    result = []\n",
    "    for i in range(n-1,-1,-1):\n",
    "        result += [(M[i], k//M[i])]\n",
    "        k %= M[i]\n",
    "    return result\n",
    "\n",
    "greed([1,2,5,10],57)"
   ]
  },
  {
   "cell_type": "code",
   "execution_count": 12,
   "id": "6b750aa5",
   "metadata": {},
   "outputs": [
    {
     "data": {
      "text/plain": [
       "0"
      ]
     },
     "execution_count": 12,
     "metadata": {},
     "output_type": "execute_result"
    }
   ],
   "source": [
    "x[-1]"
   ]
  },
  {
   "cell_type": "code",
   "execution_count": 13,
   "id": "f0eba5db",
   "metadata": {},
   "outputs": [
    {
     "data": {
      "text/plain": [
       "-1"
      ]
     },
     "execution_count": 13,
     "metadata": {},
     "output_type": "execute_result"
    }
   ],
   "source": [
    "x[-3]"
   ]
  },
  {
   "cell_type": "code",
   "execution_count": 3,
   "id": "2c7ea4bb",
   "metadata": {},
   "outputs": [
    {
     "data": {
      "text/plain": [
       "0"
      ]
     },
     "execution_count": 3,
     "metadata": {},
     "output_type": "execute_result"
    }
   ],
   "source": [
    "size = 4\n",
    "x = x[size]\n",
    "x"
   ]
  },
  {
   "cell_type": "code",
   "execution_count": 5,
   "id": "7c75ed0a",
   "metadata": {},
   "outputs": [
    {
     "data": {
      "text/plain": [
       "[-4, -3, -1, 0, 0]"
      ]
     },
     "execution_count": 5,
     "metadata": {},
     "output_type": "execute_result"
    }
   ],
   "source": [
    "x"
   ]
  },
  {
   "cell_type": "code",
   "execution_count": 8,
   "id": "ac93f337",
   "metadata": {},
   "outputs": [
    {
     "data": {
      "text/plain": [
       "[6, 0, 0, 0, 0, 0, 0, 0, 0, 0]"
      ]
     },
     "execution_count": 8,
     "metadata": {},
     "output_type": "execute_result"
    }
   ],
   "source": [
    "stack = [0] * 10\n",
    "size = 0\n",
    "def push(x):\n",
    "    global size\n",
    "    stack[size] = x\n",
    "    size += 1\n",
    "\n",
    "push(6)\n",
    "stack"
   ]
  },
  {
   "cell_type": "code",
   "execution_count": 9,
   "id": "adb1cb8a",
   "metadata": {},
   "outputs": [
    {
     "data": {
      "text/plain": [
       "6"
      ]
     },
     "execution_count": 9,
     "metadata": {},
     "output_type": "execute_result"
    }
   ],
   "source": [
    "def pop():\n",
    "    global size\n",
    "    size -= 1\n",
    "    return stack[size]\n",
    "\n",
    "pop()"
   ]
  },
  {
   "cell_type": "code",
   "execution_count": 10,
   "id": "44b84012",
   "metadata": {},
   "outputs": [
    {
     "data": {
      "text/plain": [
       "[6, 0, 0, 0, 0, 0, 0, 0, 0, 0]"
      ]
     },
     "execution_count": 10,
     "metadata": {},
     "output_type": "execute_result"
    }
   ],
   "source": [
    "stack"
   ]
  },
  {
   "cell_type": "code",
   "execution_count": 11,
   "id": "ab39eee9",
   "metadata": {},
   "outputs": [
    {
     "data": {
      "text/plain": [
       "0"
      ]
     },
     "execution_count": 11,
     "metadata": {},
     "output_type": "execute_result"
    }
   ],
   "source": [
    "pop()"
   ]
  },
  {
   "cell_type": "code",
   "execution_count": 12,
   "id": "d604bb19",
   "metadata": {},
   "outputs": [
    {
     "data": {
      "text/plain": [
       "0"
      ]
     },
     "execution_count": 12,
     "metadata": {},
     "output_type": "execute_result"
    }
   ],
   "source": [
    "pop()"
   ]
  },
  {
   "cell_type": "code",
   "execution_count": 13,
   "id": "81592a23",
   "metadata": {},
   "outputs": [
    {
     "data": {
      "text/plain": [
       "[6, 0, 0, 0, 0, 0, 0, 0, 0, 0]"
      ]
     },
     "execution_count": 13,
     "metadata": {},
     "output_type": "execute_result"
    }
   ],
   "source": [
    "stack"
   ]
  },
  {
   "cell_type": "code",
   "execution_count": 18,
   "id": "bfe97f83",
   "metadata": {},
   "outputs": [
    {
     "name": "stdout",
     "output_type": "stream",
     "text": [
      "1\n",
      "2\n",
      "3\n",
      "3\n"
     ]
    },
    {
     "data": {
      "text/plain": [
       "3"
      ]
     },
     "execution_count": 18,
     "metadata": {},
     "output_type": "execute_result"
    }
   ],
   "source": [
    "def solution(A,B):\n",
    "    if len(A) < 1:\n",
    "        return 0\n",
    "    \n",
    "    cnt = 1\n",
    "    end = B[0]\n",
    "    for i in range(1,len(A)):\n",
    "        if A[i] > end:\n",
    "            cnt += 1\n",
    "            end = B[i]\n",
    "    return cnt\n",
    "\n",
    "solution([1,3,6,9,9],[5,6,7,9,10])"
   ]
  },
  {
   "cell_type": "code",
   "execution_count": 1,
   "id": "928efc1b",
   "metadata": {},
   "outputs": [
    {
     "data": {
      "text/plain": [
       "3"
      ]
     },
     "execution_count": 1,
     "metadata": {},
     "output_type": "execute_result"
    }
   ],
   "source": [
    "def solution(K, A):\n",
    "    cnt = 0\n",
    "    current = 0\n",
    "    for length in A:\n",
    "        current += length\n",
    "        if current >= K:\n",
    "            cnt+=1\n",
    "            current = 0\n",
    "    return cnt\n",
    "\n",
    "solution(4,[1,2,3,4,1,1,3])"
   ]
  },
  {
   "cell_type": "code",
   "execution_count": 4,
   "id": "38fa0a41",
   "metadata": {},
   "outputs": [
    {
     "data": {
      "text/plain": [
       "[1, 0, 0, 0, 0, 0]"
      ]
     },
     "execution_count": 4,
     "metadata": {},
     "output_type": "execute_result"
    }
   ],
   "source": [
    "k = 5\n",
    "dp = [1] + [0] * k\n",
    "dp"
   ]
  },
  {
   "cell_type": "code",
   "execution_count": 2,
   "id": "86a4d7cc",
   "metadata": {},
   "outputs": [
    {
     "name": "stdout",
     "output_type": "stream",
     "text": [
      "[1, 1, 1, 1, 1, 1, 1, -1, 1, 10, 9, 8]\n"
     ]
    }
   ],
   "source": [
    "def solution(A):\n",
    "    N = len(A)\n",
    "    answer = [A[0]] * (N + 6)\n",
    "    for i in range(1,N):\n",
    "        answer[i+6] = max(answer[i : i + 6]) + A[i]\n",
    "    print(answer)\n",
    "solution([1,-2,0,9,-1,-2])\n",
    "    "
   ]
  },
  {
   "cell_type": "code",
   "execution_count": 5,
   "id": "146dd5b5",
   "metadata": {},
   "outputs": [],
   "source": [
    "def minimumCost(red, blue, blueCost):\n",
    "    number_of_cities = len(red)\n",
    "    ans = [0] * (number_of_cities + 1)\n",
    "    timeswitch = 0\n",
    "    for i in range(1,number_of_cities+1):\n",
    "        \n",
    "        if i==1:\n",
    "            ans[i] = red[i-1]\n",
    "            timeswitch = blue[i-1]\n",
    "            if timeswitch <= ans[i]:\n",
    "                ans[i] = timeswitch\n",
    "                line = 'Blue'\n",
    "            else:\n",
    "                line = 'Red'\n",
    "        else:\n",
    "            if line == 'Red':\n",
    "                ans[i] = ans[i-1] + red[i-1]\n",
    "                timeswitch = ans[i-1] + blue[i-1] + blueCost\n",
    "                if timeswitch <= ans[i]:\n",
    "                    ans[i] = timeswitch\n",
    "                    line = 'Blue'\n",
    "            else:\n",
    "                ans[i] = ans[i-1] + blue[i-1]\n",
    "                timeswitch = ans[i-1] + red[i-1]\n",
    "                if timeswitch < ans[i]:\n",
    "                    ans[i] = timeswitch\n",
    "                    line='Red'\n",
    "        \n",
    "    return ans\n",
    "    \n",
    "   "
   ]
  },
  {
   "cell_type": "code",
   "execution_count": 6,
   "id": "bbbabd2d",
   "metadata": {},
   "outputs": [],
   "source": [
    " a = minimumCost([1,5,1,1,1,80],[1,3,5,3,3,15],4)"
   ]
  },
  {
   "cell_type": "code",
   "execution_count": 7,
   "id": "d0b5ab7a",
   "metadata": {},
   "outputs": [
    {
     "data": {
      "text/plain": [
       "[0, 1, 4, 5, 6, 7, 26]"
      ]
     },
     "execution_count": 7,
     "metadata": {},
     "output_type": "execute_result"
    }
   ],
   "source": [
    "a"
   ]
  },
  {
   "cell_type": "code",
   "execution_count": 1,
   "id": "ed9a9c68",
   "metadata": {},
   "outputs": [
    {
     "name": "stdout",
     "output_type": "stream",
     "text": [
      "Cannot find power of strings\n",
      "Cannot find power of strings\n",
      "Cannot find power of strings\n"
     ]
    }
   ],
   "source": [
    "for i in ['a','b','c']:\n",
    "    try:\n",
    "        print(i**2)\n",
    "    except:\n",
    "        print('Cannot find power of strings')"
   ]
  },
  {
   "cell_type": "code",
   "execution_count": 2,
   "id": "b56428d3",
   "metadata": {},
   "outputs": [
    {
     "name": "stdout",
     "output_type": "stream",
     "text": [
      "Cannot divide by 0\n",
      "All Done\n"
     ]
    }
   ],
   "source": [
    "x = 5\n",
    "y = 0\n",
    "try:\n",
    "    z = x/y\n",
    "except ZeroDivisionError:\n",
    "    print('Cannot divide by 0')\n",
    "finally:\n",
    "    print('All Done')"
   ]
  },
  {
   "cell_type": "code",
   "execution_count": 6,
   "id": "5ff03699",
   "metadata": {},
   "outputs": [],
   "source": [
    "def ask():\n",
    "    while True:\n",
    "        try:\n",
    "            x = int(input('Enter an integer: '))\n",
    "            break\n",
    "        except:\n",
    "            print('You have not inputted an integer. Try Again!')\n",
    "    print(x**2)        "
   ]
  },
  {
   "cell_type": "code",
   "execution_count": 8,
   "id": "69d00576",
   "metadata": {},
   "outputs": [
    {
     "data": {
      "text/plain": [
       "0.8"
      ]
     },
     "execution_count": 8,
     "metadata": {},
     "output_type": "execute_result"
    }
   ],
   "source": [
    "80/100"
   ]
  },
  {
   "cell_type": "code",
   "execution_count": 27,
   "id": "5930b29d",
   "metadata": {},
   "outputs": [],
   "source": [
    "def investment(Years):\n",
    "    total_return = 0\n",
    "    \n",
    "    \n",
    "    while True:\n",
    "        try:\n",
    "            initial_investment = int(input('What is your initial investment? £'))\n",
    "            break\n",
    "        except:\n",
    "            print('Invalid input! Try again.')\n",
    "\n",
    "    while True:\n",
    "        try:\n",
    "            annual_return = int(input('What is your investments annual return? Answer as a percentage: '))\n",
    "            break\n",
    "        except:\n",
    "            print('Invalid input! Try again.')         \n",
    "    \n",
    "    \n",
    "    while True:\n",
    "        yearly_investment = input('Do you wish to invest your initial investment annually? Answer Y or N or Yes or No: ')\n",
    "        yearly_investment.lower()\n",
    "        if yearly_investment == 'y' or yearly_investment == 'n' or yearly_investment == 'yes' or yearly_investment == 'no':\n",
    "            print('Thanks for letting us know')\n",
    "            break\n",
    "        else:\n",
    "            print('Please input the available options')\n",
    "   \n",
    "    \n",
    "    \n",
    "    \n",
    "    \n",
    "    \n",
    "    if annual_return >= 0:\n",
    "        annual_return = (annual_return/100) + 1\n",
    "    else:\n",
    "        annual_return = 1 - (annual_return/100)\n",
    "    \n",
    "    \n",
    "    \n",
    "    if yearly_investment == 'n' or yearly_investment == 'no':\n",
    "        total_return = initial_investment * (annual_return ** Years)\n",
    "        \n",
    "        return 'The value of your fund will be £{:.2f} in {} years'.format(total_return, Years)    \n",
    "    else:\n",
    "        while True:\n",
    "            increase_investment_yearly = input('Do you wish to increase your yearly investment? Answer Y or N or Yes or No: ')\n",
    "            increase_investment_yearly.lower()\n",
    "            if increase_investment_yearly == 'y' or increase_investment_yearly == 'n' or increase_investment_yearly == 'yes' or increase_investment_yearly == 'no':\n",
    "                print('Thanks for letting us know')\n",
    "                break\n",
    "            else:\n",
    "                print('Please input the available options')\n",
    "        if increase_investment_yearly == 'n' or increase_investment_yearly == 'no':\n",
    "            total_return = 0\n",
    "            for year in range(Years):\n",
    "                total_return = total_return + initial_investment\n",
    "                total_return = total_return * annual_return\n",
    "            return 'The value of your fund will be £{:.2f} in {} years'.format(total_return, Years)   \n",
    "        else:\n",
    "            while True:\n",
    "                try:\n",
    "                    investment_increase = int(input('How much do you want to increase your annual investment every year?: £'))\n",
    "                    break\n",
    "                except:\n",
    "                    print('Invalid input! Try again.')\n",
    "        \n",
    "            yearly_investment = initial_investment\n",
    "            total_return = 0\n",
    "            for year in range(Years):\n",
    "                total_return = total_return + yearly_investment\n",
    "                total_return = total_return * annual_return\n",
    "                yearly_investment = yearly_investment + investment_increase\n",
    "            return 'The value of your fund will be £{:.2f} in {} years'.format(total_return, Years)       "
   ]
  },
  {
   "cell_type": "code",
   "execution_count": 28,
   "id": "6def3b56",
   "metadata": {},
   "outputs": [
    {
     "name": "stdout",
     "output_type": "stream",
     "text": [
      "What is your initial investment? £12000\n",
      "What is your investments annual return? Answer as a percentage: 10\n",
      "Do you wish to invest your initial investment annually? Answer Y or N or Yes or No: y\n",
      "Thanks for letting us know\n",
      "Do you wish to increase your yearly investment? Answer Y or N or Yes or No: n\n",
      "Thanks for letting us know\n"
     ]
    },
    {
     "data": {
      "text/plain": [
       "'The value of your fund will be £756029.99 in 20 years'"
      ]
     },
     "execution_count": 28,
     "metadata": {},
     "output_type": "execute_result"
    }
   ],
   "source": [
    "money = investment(20)\n",
    "money"
   ]
  },
  {
   "cell_type": "code",
   "execution_count": 7,
   "id": "c54d5156",
   "metadata": {},
   "outputs": [
    {
     "data": {
      "text/plain": [
       "'The value of your fund is £1408690.2345563495'"
      ]
     },
     "execution_count": 7,
     "metadata": {},
     "output_type": "execute_result"
    }
   ],
   "source": []
  },
  {
   "cell_type": "code",
   "execution_count": 1,
   "id": "ff022255",
   "metadata": {},
   "outputs": [
    {
     "data": {
      "text/plain": [
       "7"
      ]
     },
     "execution_count": 1,
     "metadata": {},
     "output_type": "execute_result"
    }
   ],
   "source": [
    "x = -123\n",
    "x % 10"
   ]
  },
  {
   "cell_type": "code",
   "execution_count": null,
   "id": "410fe2ad",
   "metadata": {},
   "outputs": [],
   "source": []
  }
 ],
 "metadata": {
  "kernelspec": {
   "display_name": "Python 3",
   "language": "python",
   "name": "python3"
  },
  "language_info": {
   "codemirror_mode": {
    "name": "ipython",
    "version": 3
   },
   "file_extension": ".py",
   "mimetype": "text/x-python",
   "name": "python",
   "nbconvert_exporter": "python",
   "pygments_lexer": "ipython3",
   "version": "3.8.8"
  }
 },
 "nbformat": 4,
 "nbformat_minor": 5
}
