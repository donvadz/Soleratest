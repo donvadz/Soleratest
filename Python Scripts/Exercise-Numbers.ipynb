{
 "cells": [
  {
   "cell_type": "code",
   "execution_count": 1,
   "id": "ecb219de",
   "metadata": {},
   "outputs": [
    {
     "data": {
      "text/plain": [
       "100"
      ]
     },
     "execution_count": 1,
     "metadata": {},
     "output_type": "execute_result"
    }
   ],
   "source": [
    "25*4"
   ]
  },
  {
   "cell_type": "code",
   "execution_count": 2,
   "id": "f5cdd972",
   "metadata": {},
   "outputs": [
    {
     "data": {
      "text/plain": [
       "0.5"
      ]
     },
     "execution_count": 2,
     "metadata": {},
     "output_type": "execute_result"
    }
   ],
   "source": [
    "1/2"
   ]
  },
  {
   "cell_type": "code",
   "execution_count": 3,
   "id": "ab4787f2",
   "metadata": {},
   "outputs": [
    {
     "name": "stdout",
     "output_type": "stream",
     "text": [
      "1\n",
      "3\n",
      "0\n"
     ]
    }
   ],
   "source": [
    "a = [[1,2],[3,4],[0,8]]\n",
    "for i,j in a:\n",
    "    print(i)"
   ]
  },
  {
   "cell_type": "code",
   "execution_count": 4,
   "id": "56acf5a1",
   "metadata": {},
   "outputs": [
    {
     "name": "stdout",
     "output_type": "stream",
     "text": [
      "(0, [1, 2])\n",
      "(1, [3, 4])\n",
      "(2, [0, 8])\n"
     ]
    }
   ],
   "source": [
    "for i in enumerate(a):\n",
    "    print(i)"
   ]
  },
  {
   "cell_type": "code",
   "execution_count": 15,
   "id": "1ca2af6d",
   "metadata": {},
   "outputs": [
    {
     "data": {
      "text/plain": [
       "[([1, 2], 1), ([3, 4], 2), ([0, 8], 3)]"
      ]
     },
     "execution_count": 15,
     "metadata": {},
     "output_type": "execute_result"
    }
   ],
   "source": [
    "b = [1,2,3]\n",
    "c = zip(a,b)\n",
    "c = list(c)\n",
    "c"
   ]
  },
  {
   "cell_type": "code",
   "execution_count": 7,
   "id": "a19d2430",
   "metadata": {},
   "outputs": [
    {
     "name": "stdout",
     "output_type": "stream",
     "text": [
      "([1, 2], 1)\n",
      "([3, 4], 2)\n",
      "([0, 8], 3)\n"
     ]
    }
   ],
   "source": [
    "for item in zip(a,b):\n",
    "    print(item)"
   ]
  },
  {
   "cell_type": "code",
   "execution_count": 16,
   "id": "50de1ffb",
   "metadata": {},
   "outputs": [],
   "source": [
    "from random import randint"
   ]
  },
  {
   "cell_type": "code",
   "execution_count": 32,
   "id": "188282e9",
   "metadata": {},
   "outputs": [
    {
     "data": {
      "text/plain": [
       "12"
      ]
     },
     "execution_count": 32,
     "metadata": {},
     "output_type": "execute_result"
    }
   ],
   "source": [
    "randint(0,100)"
   ]
  },
  {
   "cell_type": "code",
   "execution_count": 41,
   "id": "3b1f2311",
   "metadata": {},
   "outputs": [
    {
     "name": "stdout",
     "output_type": "stream",
     "text": [
      "Words beginning with s: start\n",
      "Words beginning with s: s\n",
      "Words beginning with s: sentence\n"
     ]
    }
   ],
   "source": [
    "st = 'Print only the words that start with s in this sentence'\n",
    "\n",
    "st = st.split()\n",
    "\n",
    "words = [word for word in st if word[0]=='s']\n",
    "for i in words:\n",
    "    print(f'Words beginning with s: {i}')"
   ]
  },
  {
   "cell_type": "code",
   "execution_count": 43,
   "id": "ab82f82f",
   "metadata": {},
   "outputs": [
    {
     "name": "stdout",
     "output_type": "stream",
     "text": [
      "0\n",
      "2\n",
      "4\n",
      "6\n",
      "8\n",
      "10\n"
     ]
    }
   ],
   "source": [
    "for i in range(0,11):\n",
    "    if i % 2==0:\n",
    "        print(i)"
   ]
  },
  {
   "cell_type": "code",
   "execution_count": 46,
   "id": "6feb4f6b",
   "metadata": {},
   "outputs": [
    {
     "ename": "SyntaxError",
     "evalue": "invalid syntax (<ipython-input-46-0d8f4dcd7f23>, line 1)",
     "output_type": "error",
     "traceback": [
      "\u001b[1;36m  File \u001b[1;32m\"<ipython-input-46-0d8f4dcd7f23>\"\u001b[1;36m, line \u001b[1;32m1\u001b[0m\n\u001b[1;33m    divide = [number if number%3==0 for number in range(1,51)]\u001b[0m\n\u001b[1;37m                                    ^\u001b[0m\n\u001b[1;31mSyntaxError\u001b[0m\u001b[1;31m:\u001b[0m invalid syntax\n"
     ]
    }
   ],
   "source": [
    "divide = [number for number in range(1,51) if number%3==0]\n",
    "divide"
   ]
  },
  {
   "cell_type": "code",
   "execution_count": 47,
   "id": "81d9d7b4",
   "metadata": {},
   "outputs": [
    {
     "data": {
      "text/plain": [
       "['Print',\n",
       " 'only',\n",
       " 'the',\n",
       " 'words',\n",
       " 'that',\n",
       " 'start',\n",
       " 'with',\n",
       " 's',\n",
       " 'in',\n",
       " 'this',\n",
       " 'sentence']"
      ]
     },
     "execution_count": 47,
     "metadata": {},
     "output_type": "execute_result"
    }
   ],
   "source": [
    "st"
   ]
  },
  {
   "cell_type": "code",
   "execution_count": 51,
   "id": "d0c83a04",
   "metadata": {},
   "outputs": [
    {
     "name": "stdout",
     "output_type": "stream",
     "text": [
      "The length of the word \"only\" is even!\n",
      "The length of the word \"that\" is even!\n",
      "The length of the word \"with\" is even!\n",
      "The length of the word \"in\" is even!\n",
      "The length of the word \"this\" is even!\n",
      "The length of the word \"sentence\" is even!\n"
     ]
    }
   ],
   "source": [
    "for i in st:\n",
    "    if len(i)%2==0:\n",
    "        print(f'The length of the word \"{i}\" is even!')"
   ]
  },
  {
   "cell_type": "code",
   "execution_count": 54,
   "id": "82074ae7",
   "metadata": {},
   "outputs": [
    {
     "name": "stdout",
     "output_type": "stream",
     "text": [
      "1\n",
      "2\n",
      "Fizz\n",
      "4\n",
      "Buzz\n",
      "Fizz\n",
      "7\n",
      "8\n",
      "Fizz\n",
      "Buzz\n",
      "11\n",
      "Fizz\n",
      "13\n",
      "14\n",
      "FizzBuzz\n",
      "16\n",
      "17\n",
      "Fizz\n",
      "19\n",
      "Buzz\n",
      "Fizz\n",
      "22\n",
      "23\n",
      "Fizz\n",
      "Buzz\n",
      "26\n",
      "Fizz\n",
      "28\n",
      "29\n",
      "FizzBuzz\n",
      "31\n",
      "32\n",
      "Fizz\n",
      "34\n",
      "Buzz\n",
      "Fizz\n",
      "37\n",
      "38\n",
      "Fizz\n",
      "Buzz\n",
      "41\n",
      "Fizz\n",
      "43\n",
      "44\n",
      "FizzBuzz\n",
      "46\n",
      "47\n",
      "Fizz\n",
      "49\n",
      "Buzz\n",
      "Fizz\n",
      "52\n",
      "53\n",
      "Fizz\n",
      "Buzz\n",
      "56\n",
      "Fizz\n",
      "58\n",
      "59\n",
      "FizzBuzz\n",
      "61\n",
      "62\n",
      "Fizz\n",
      "64\n",
      "Buzz\n",
      "Fizz\n",
      "67\n",
      "68\n",
      "Fizz\n",
      "Buzz\n",
      "71\n",
      "Fizz\n",
      "73\n",
      "74\n",
      "FizzBuzz\n",
      "76\n",
      "77\n",
      "Fizz\n",
      "79\n",
      "Buzz\n",
      "Fizz\n",
      "82\n",
      "83\n",
      "Fizz\n",
      "Buzz\n",
      "86\n",
      "Fizz\n",
      "88\n",
      "89\n",
      "FizzBuzz\n",
      "91\n",
      "92\n",
      "Fizz\n",
      "94\n",
      "Buzz\n",
      "Fizz\n",
      "97\n",
      "98\n",
      "Fizz\n",
      "Buzz\n"
     ]
    }
   ],
   "source": [
    "for i in range(1,101):\n",
    "    if i%3==0 and i%5!=0:\n",
    "        print('Fizz')\n",
    "    elif i%5==0 and i%3!=0:\n",
    "        print('Buzz')\n",
    "    elif i%3==0 and i%5==0:\n",
    "        print('FizzBuzz')\n",
    "    else:\n",
    "        print(i)"
   ]
  },
  {
   "cell_type": "code",
   "execution_count": 55,
   "id": "08846025",
   "metadata": {},
   "outputs": [
    {
     "data": {
      "text/plain": [
       "['P', 'o', 't', 'w', 't', 's', 'w', 's', 'i', 't', 's']"
      ]
     },
     "execution_count": 55,
     "metadata": {},
     "output_type": "execute_result"
    }
   ],
   "source": [
    "letter = [ltr[0] for ltr in st]\n",
    "letter"
   ]
  },
  {
   "cell_type": "code",
   "execution_count": 56,
   "id": "43367505",
   "metadata": {},
   "outputs": [
    {
     "data": {
      "text/plain": [
       "1"
      ]
     },
     "execution_count": 56,
     "metadata": {},
     "output_type": "execute_result"
    }
   ],
   "source": [
    "22 % 3"
   ]
  },
  {
   "cell_type": "code",
   "execution_count": 57,
   "id": "9a52f424",
   "metadata": {},
   "outputs": [
    {
     "data": {
      "text/plain": [
       "False"
      ]
     },
     "execution_count": 57,
     "metadata": {},
     "output_type": "execute_result"
    }
   ],
   "source": [
    "22 % 3 ==0"
   ]
  },
  {
   "cell_type": "code",
   "execution_count": 34,
   "id": "61c2c884",
   "metadata": {},
   "outputs": [],
   "source": [
    "def myfunc(*args):\n",
    "    m = list(args[0])\n",
    "    l = []\n",
    "    for i in range(len(m)):\n",
    "        print(i)\n",
    "        if i % 2 == 0:\n",
    "            m[i] = m[i].upper()\n",
    "            l.append(m[i])\n",
    "            print(l)\n",
    "        else:\n",
    "            m[i] = m[i].lower()\n",
    "            l.append(m[i])\n",
    "            print(l)\n",
    "    l = ''.join(l)\n",
    "            \n",
    "    return l"
   ]
  },
  {
   "cell_type": "code",
   "execution_count": 35,
   "id": "37a3ff24",
   "metadata": {},
   "outputs": [
    {
     "name": "stdout",
     "output_type": "stream",
     "text": [
      "0\n",
      "['H']\n",
      "1\n",
      "['H', 'e']\n",
      "2\n",
      "['H', 'e', 'Y']\n",
      "3\n",
      "['H', 'e', 'Y', ' ']\n",
      "4\n",
      "['H', 'e', 'Y', ' ', 'H']\n",
      "5\n",
      "['H', 'e', 'Y', ' ', 'H', 'o']\n",
      "6\n",
      "['H', 'e', 'Y', ' ', 'H', 'o', 'W']\n",
      "7\n",
      "['H', 'e', 'Y', ' ', 'H', 'o', 'W', ' ']\n",
      "8\n",
      "['H', 'e', 'Y', ' ', 'H', 'o', 'W', ' ', 'Y']\n",
      "9\n",
      "['H', 'e', 'Y', ' ', 'H', 'o', 'W', ' ', 'Y', 'o']\n",
      "10\n",
      "['H', 'e', 'Y', ' ', 'H', 'o', 'W', ' ', 'Y', 'o', 'U']\n",
      "11\n",
      "['H', 'e', 'Y', ' ', 'H', 'o', 'W', ' ', 'Y', 'o', 'U', ' ']\n",
      "12\n",
      "['H', 'e', 'Y', ' ', 'H', 'o', 'W', ' ', 'Y', 'o', 'U', ' ', 'D']\n",
      "13\n",
      "['H', 'e', 'Y', ' ', 'H', 'o', 'W', ' ', 'Y', 'o', 'U', ' ', 'D', 'o']\n",
      "14\n",
      "['H', 'e', 'Y', ' ', 'H', 'o', 'W', ' ', 'Y', 'o', 'U', ' ', 'D', 'o', 'I']\n",
      "15\n",
      "['H', 'e', 'Y', ' ', 'H', 'o', 'W', ' ', 'Y', 'o', 'U', ' ', 'D', 'o', 'I', 'n']\n",
      "16\n",
      "['H', 'e', 'Y', ' ', 'H', 'o', 'W', ' ', 'Y', 'o', 'U', ' ', 'D', 'o', 'I', 'n', 'G']\n"
     ]
    },
    {
     "data": {
      "text/plain": [
       "'HeY HoW YoU DoInG'"
      ]
     },
     "execution_count": 35,
     "metadata": {},
     "output_type": "execute_result"
    }
   ],
   "source": [
    "x = myfunc('Hey how you doing')\n",
    "x"
   ]
  },
  {
   "cell_type": "code",
   "execution_count": 3,
   "id": "04e71e7c",
   "metadata": {},
   "outputs": [
    {
     "data": {
      "text/plain": [
       "[]"
      ]
     },
     "execution_count": 3,
     "metadata": {},
     "output_type": "execute_result"
    }
   ],
   "source": [
    "x"
   ]
  },
  {
   "cell_type": "code",
   "execution_count": 2,
   "id": "6422ed93",
   "metadata": {},
   "outputs": [
    {
     "data": {
      "text/plain": [
       "5"
      ]
     },
     "execution_count": 2,
     "metadata": {},
     "output_type": "execute_result"
    }
   ],
   "source": [
    "def lesser_of_two_evens(a,b):\n",
    "    if a%2==0 and b%2==0:\n",
    "        return min(a,b)\n",
    "    else:\n",
    "        return max(a,b)\n",
    "    \n",
    "lesser_of_two_evens(2,5)"
   ]
  },
  {
   "cell_type": "code",
   "execution_count": 4,
   "id": "9f39ed8f",
   "metadata": {},
   "outputs": [
    {
     "data": {
      "text/plain": [
       "False"
      ]
     },
     "execution_count": 4,
     "metadata": {},
     "output_type": "execute_result"
    }
   ],
   "source": [
    "def animal_crackers(text):\n",
    "    text = text.split()\n",
    "    if text[0][0] == text[1][0]:\n",
    "        return True\n",
    "    return False\n",
    "\n",
    "animal_crackers('Crazy Kangaroo')"
   ]
  },
  {
   "cell_type": "code",
   "execution_count": 6,
   "id": "958c92f9",
   "metadata": {},
   "outputs": [
    {
     "data": {
      "text/plain": [
       "-3"
      ]
     },
     "execution_count": 6,
     "metadata": {},
     "output_type": "execute_result"
    }
   ],
   "source": [
    "def other_side_of_seven(num):\n",
    "    x = (7 - num)*2\n",
    "    y = 7 + x\n",
    "    return y\n",
    "\n",
    "other_side_of_seven(12)"
   ]
  },
  {
   "cell_type": "code",
   "execution_count": 15,
   "id": "01383d64",
   "metadata": {},
   "outputs": [
    {
     "data": {
      "text/plain": [
       "'MacDonald'"
      ]
     },
     "execution_count": 15,
     "metadata": {},
     "output_type": "execute_result"
    }
   ],
   "source": [
    "def old_macdonald(name):\n",
    "    lst = list(name)\n",
    "    \n",
    "    lst[0]=lst[0].upper()\n",
    "    lst[3]=lst[3].upper()\n",
    "    name= ''.join(lst)\n",
    "    return name\n",
    "\n",
    "old_macdonald('macdonald')"
   ]
  },
  {
   "cell_type": "code",
   "execution_count": 27,
   "id": "fcd949fd",
   "metadata": {},
   "outputs": [
    {
     "data": {
      "text/plain": [
       "['ready', 'are', 'We']"
      ]
     },
     "execution_count": 27,
     "metadata": {},
     "output_type": "execute_result"
    }
   ],
   "source": [
    "def master_yoda(text):\n",
    "    text = text.split()\n",
    "    text.reverse()\n",
    "    return text\n",
    "\n",
    "master_yoda('We are ready')"
   ]
  },
  {
   "cell_type": "code",
   "execution_count": 32,
   "id": "b4ffc6d8",
   "metadata": {},
   "outputs": [
    {
     "data": {
      "text/plain": [
       "True"
      ]
     },
     "execution_count": 32,
     "metadata": {},
     "output_type": "execute_result"
    }
   ],
   "source": [
    "def almost_there(n):\n",
    "    if (n < 110 and n > 90) or (n < 210 and n > 190):\n",
    "        return True\n",
    "    return False\n",
    "almost_there(209)"
   ]
  },
  {
   "cell_type": "code",
   "execution_count": 36,
   "id": "58762a5b",
   "metadata": {},
   "outputs": [
    {
     "data": {
      "text/plain": [
       "3"
      ]
     },
     "execution_count": 36,
     "metadata": {},
     "output_type": "execute_result"
    }
   ],
   "source": [
    "def laughter(pattern,text):\n",
    "    #counter = [0] * len(text)\n",
    "    counter = 0\n",
    "    for i in range(len(text)):\n",
    "        string = ''\n",
    "        for j in range(i,len(text)):\n",
    "            string += text[j]\n",
    "            if string == pattern:\n",
    "                counter+=1\n",
    "                break\n",
    "            \n",
    "    return counter\n",
    "\n",
    "laughter('hah','hahahah')"
   ]
  },
  {
   "cell_type": "code",
   "execution_count": 41,
   "id": "8a70653e",
   "metadata": {},
   "outputs": [
    {
     "data": {
      "text/plain": [
       "19"
      ]
     },
     "execution_count": 41,
     "metadata": {},
     "output_type": "execute_result"
    }
   ],
   "source": [
    "def blackjack(a,b,c):\n",
    "    s = a + b + c\n",
    "    if s <= 21:\n",
    "        return s\n",
    "    else:\n",
    "        if a==11 or b==11 or c==11:\n",
    "            s -= 10\n",
    "            if s <= 21:\n",
    "                return s\n",
    "    return 'BUST'\n",
    "\n",
    "blackjack(9,9,11)"
   ]
  },
  {
   "cell_type": "code",
   "execution_count": 44,
   "id": "f99d341d",
   "metadata": {},
   "outputs": [
    {
     "data": {
      "text/plain": [
       "False"
      ]
     },
     "execution_count": 44,
     "metadata": {},
     "output_type": "execute_result"
    }
   ],
   "source": [
    "def spy_game(nums):\n",
    "    counter = [False] * 3\n",
    "    index = 0\n",
    "    for i in nums:\n",
    "        if i == 0:\n",
    "            counter[index]= True\n",
    "            index+=1\n",
    "        if i == 7:\n",
    "            if counter[0] == False or counter[1] == False:\n",
    "                return False\n",
    "            else:\n",
    "                return True\n",
    "    return False\n",
    "\n",
    "spy_game([1,7,2,0,4,5,0])\n",
    "            "
   ]
  },
  {
   "cell_type": "code",
   "execution_count": 2,
   "id": "c3f0cb00",
   "metadata": {},
   "outputs": [
    {
     "data": {
      "text/plain": [
       "33.510321638291124"
      ]
     },
     "execution_count": 2,
     "metadata": {},
     "output_type": "execute_result"
    }
   ],
   "source": [
    "import math\n",
    "def vol(rad):\n",
    "    return (4/3)*math.pi*rad**3\n",
    "\n",
    "vol(2)"
   ]
  },
  {
   "cell_type": "code",
   "execution_count": 3,
   "id": "8421a2a3",
   "metadata": {},
   "outputs": [
    {
     "data": {
      "text/plain": [
       "True"
      ]
     },
     "execution_count": 3,
     "metadata": {},
     "output_type": "execute_result"
    }
   ],
   "source": [
    "def ran_check(num,low,high):\n",
    "    return num <= high and num >=low\n",
    "    \n",
    "ran_check(3,1,10)"
   ]
  },
  {
   "cell_type": "code",
   "execution_count": 5,
   "id": "b064f770",
   "metadata": {},
   "outputs": [
    {
     "name": "stdout",
     "output_type": "stream",
     "text": [
      "Originial String : Hello Mr. Rogers, how are you this fine Tuesday?\n",
      "No. of Upper case characters : 4\n",
      "No. of Lower case characters : 33\n"
     ]
    }
   ],
   "source": [
    "def up_low(s):\n",
    "    countupper = 0\n",
    "    countlower = 0\n",
    "    for i in s:\n",
    "        if i.isupper():\n",
    "            countupper+=1\n",
    "        elif i.islower():\n",
    "            countlower+=1\n",
    "        else:\n",
    "            continue\n",
    "    print(f'Originial String : {s}')\n",
    "    print(f'No. of Upper case characters : {countupper}')\n",
    "    print(f'No. of Lower case characters : {countlower}')\n",
    "          \n",
    "s = 'Hello Mr. Rogers, how are you this fine Tuesday?'\n",
    "up_low(s)"
   ]
  },
  {
   "cell_type": "code",
   "execution_count": 6,
   "id": "0ec52931",
   "metadata": {},
   "outputs": [
    {
     "data": {
      "text/plain": [
       "[1, 2, 3, 4, 5]"
      ]
     },
     "execution_count": 6,
     "metadata": {},
     "output_type": "execute_result"
    }
   ],
   "source": [
    "def unique_list(lst):\n",
    "    unique = set(lst)\n",
    "    return list(unique)\n",
    "\n",
    "unique_list([1,1,1,1,2,2,3,3,3,3,4,5])"
   ]
  },
  {
   "cell_type": "code",
   "execution_count": 9,
   "id": "355b4763",
   "metadata": {},
   "outputs": [
    {
     "data": {
      "text/plain": [
       "-24"
      ]
     },
     "execution_count": 9,
     "metadata": {},
     "output_type": "execute_result"
    }
   ],
   "source": [
    "def multiply(number):\n",
    "    m = 1\n",
    "    for i in number:\n",
    "        m*=i\n",
    "    return m\n",
    "\n",
    "multiply([1,2,3,-4])"
   ]
  },
  {
   "cell_type": "code",
   "execution_count": 33,
   "id": "77de6740",
   "metadata": {},
   "outputs": [
    {
     "name": "stdout",
     "output_type": "stream",
     "text": [
      "1nursesrun\n",
      "nursesrun1\n"
     ]
    },
    {
     "data": {
      "text/plain": [
       "False"
      ]
     },
     "execution_count": 33,
     "metadata": {},
     "output_type": "execute_result"
    }
   ],
   "source": [
    "def palindrome(s):\n",
    "    s=s.replace(' ','')\n",
    "    r = s[::-1]\n",
    "    print(r)\n",
    "    print(s)\n",
    "    return r==s\n",
    "palindrome('nurses run1')"
   ]
  },
  {
   "cell_type": "code",
   "execution_count": null,
   "id": "d5d3a44b",
   "metadata": {},
   "outputs": [],
   "source": [
    "def ispangram(str):\n",
    "    counter = [0]*26\n",
    "    for i in "
   ]
  }
 ],
 "metadata": {
  "kernelspec": {
   "display_name": "Python 3",
   "language": "python",
   "name": "python3"
  },
  "language_info": {
   "codemirror_mode": {
    "name": "ipython",
    "version": 3
   },
   "file_extension": ".py",
   "mimetype": "text/x-python",
   "name": "python",
   "nbconvert_exporter": "python",
   "pygments_lexer": "ipython3",
   "version": "3.8.8"
  }
 },
 "nbformat": 4,
 "nbformat_minor": 5
}
